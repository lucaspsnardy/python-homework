{
 "cells": [
  {
   "cell_type": "code",
   "execution_count": 1,
   "metadata": {},
   "outputs": [
    {
     "data": {
      "text/html": [
       "<div>\n",
       "<style scoped>\n",
       "    .dataframe tbody tr th:only-of-type {\n",
       "        vertical-align: middle;\n",
       "    }\n",
       "\n",
       "    .dataframe tbody tr th {\n",
       "        vertical-align: top;\n",
       "    }\n",
       "\n",
       "    .dataframe thead th {\n",
       "        text-align: right;\n",
       "    }\n",
       "</style>\n",
       "<table border=\"1\" class=\"dataframe\">\n",
       "  <thead>\n",
       "    <tr style=\"text-align: right;\">\n",
       "      <th></th>\n",
       "      <th>Date</th>\n",
       "      <th>Profit/Losses</th>\n",
       "    </tr>\n",
       "  </thead>\n",
       "  <tbody>\n",
       "    <tr>\n",
       "      <th>0</th>\n",
       "      <td>Jan-2010</td>\n",
       "      <td>867884</td>\n",
       "    </tr>\n",
       "    <tr>\n",
       "      <th>1</th>\n",
       "      <td>Feb-2010</td>\n",
       "      <td>984655</td>\n",
       "    </tr>\n",
       "    <tr>\n",
       "      <th>2</th>\n",
       "      <td>Mar-2010</td>\n",
       "      <td>322013</td>\n",
       "    </tr>\n",
       "    <tr>\n",
       "      <th>3</th>\n",
       "      <td>Apr-2010</td>\n",
       "      <td>-69417</td>\n",
       "    </tr>\n",
       "    <tr>\n",
       "      <th>4</th>\n",
       "      <td>May-2010</td>\n",
       "      <td>310503</td>\n",
       "    </tr>\n",
       "  </tbody>\n",
       "</table>\n",
       "</div>"
      ],
      "text/plain": [
       "       Date  Profit/Losses\n",
       "0  Jan-2010         867884\n",
       "1  Feb-2010         984655\n",
       "2  Mar-2010         322013\n",
       "3  Apr-2010         -69417\n",
       "4  May-2010         310503"
      ]
     },
     "execution_count": 1,
     "metadata": {},
     "output_type": "execute_result"
    }
   ],
   "source": [
    "#Import CSV\n",
    "import pandas as pd\n",
    "import numpy as np\n",
    "from pathlib import Path\n",
    "csvpath = Path('../PyBank/budget_data.csv')\n",
    "budget_data = pd.read_csv(csvpath)\n",
    "df = pd.DataFrame(budget_data)\n",
    "df.head()"
   ]
  },
  {
   "cell_type": "code",
   "execution_count": 2,
   "metadata": {},
   "outputs": [],
   "source": [
    "#The total number of months included in the dataset.\n",
    "tmonths = budget_data['Date'].nunique()"
   ]
  },
  {
   "cell_type": "code",
   "execution_count": 3,
   "metadata": {},
   "outputs": [],
   "source": [
    "#The net total amount of Profit/Losses over the entire period.\n",
    "profit_or_losses = budget_data['Profit/Losses'].sum()"
   ]
  },
  {
   "cell_type": "code",
   "execution_count": 12,
   "metadata": {},
   "outputs": [],
   "source": [
    "#The average of the changes in Profit/Losses over the entire period.\n",
    "#Build shif column to ansewr the greatest increase in profits and greatest decrease\n",
    "df['shift_column'] = df['Profit/Losses'].shift(1)\n",
    "df['Average_of_Changes'] = df['Profit/Losses'] - df['shift_column']\n",
    "df['Average_of_Changes'] = df['Average_of_Changes'].abs()\n",
    "\n",
    "#Building profitable and unprofitable  \n",
    "profitable_days = []\n",
    "unprofitable_days = []\n",
    "\n",
    "#Loop to add the profitable and unprofitable days at the respective lists\n",
    "for i in df['Profit/Losses']:\n",
    "    if i >= 0:\n",
    "        profitable_days.append(i) \n",
    "    else:\n",
    "        unprofitable_days.append(i)\n",
    "\n",
    "#Counting the number of elements in each list\n",
    "number_of_elements0 = len(profitable_days)\n",
    "number_of_elements1 = len(unprofitable_days)\n",
    "\n",
    "#Total profit and total loss\n",
    "h = sum(profitable_days)\n",
    "j = sum(unprofitable_days)\n",
    "\n",
    "\n",
    "#Average of the changes\n",
    "h1 = h / number_of_elements0\n",
    "j1 = j / number_of_elements1\n",
    "z = (h1 - j1)/tmonths\n"
   ]
  },
  {
   "cell_type": "code",
   "execution_count": 5,
   "metadata": {},
   "outputs": [],
   "source": [
    "#The greatest increase in profits (date and amount) over the entire period.\n",
    "maximum = df['Profit/Losses'].max()\n",
    "x= df[df['Profit/Losses']==maximum]"
   ]
  },
  {
   "cell_type": "code",
   "execution_count": 6,
   "metadata": {},
   "outputs": [],
   "source": [
    "#The greatest decrease in losses (date and amount) over the entire period.\n",
    "minimum = df['Profit/Losses'].min()\n",
    "y= df[df['Profit/Losses']==minimum]"
   ]
  },
  {
   "cell_type": "code",
   "execution_count": 13,
   "metadata": {},
   "outputs": [
    {
     "name": "stdout",
     "output_type": "stream",
     "text": [
      "The total of months 86\n",
      "Profit or Losses of $38,382,578\n",
      "The average of Changes is $14,282.809187094072\n",
      "--------------------\n",
      "        Date  Profit/Losses  shift_column  Average_of_Changes\n",
      "25  Feb-2012        1170593     -755566.0           1926159.0\n",
      "        Date  Profit/Losses  shift_column  Average_of_Changes\n",
      "44  Sep-2013       -1196225      999942.0           2196167.0\n"
     ]
    }
   ],
   "source": [
    "#Prints\n",
    "print('The total of months',(tmonths))\n",
    "print('Profit or Losses of ${:,}'.format(profit_or_losses))\n",
    "print ('The average of Changes is ${:,}'.format(z))\n",
    "print('--------------------')\n",
    "print(x)\n",
    "print(y)\n"
   ]
  },
  {
   "cell_type": "code",
   "execution_count": null,
   "metadata": {},
   "outputs": [],
   "source": []
  },
  {
   "cell_type": "code",
   "execution_count": null,
   "metadata": {},
   "outputs": [],
   "source": []
  }
 ],
 "metadata": {
  "kernelspec": {
   "display_name": "Python 3",
   "language": "python",
   "name": "python3"
  },
  "language_info": {
   "codemirror_mode": {
    "name": "ipython",
    "version": 3
   },
   "file_extension": ".py",
   "mimetype": "text/x-python",
   "name": "python",
   "nbconvert_exporter": "python",
   "pygments_lexer": "ipython3",
   "version": "3.7.9"
  }
 },
 "nbformat": 4,
 "nbformat_minor": 4
}
